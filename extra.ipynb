{
 "cells": [
  {
   "cell_type": "code",
   "execution_count": null,
   "metadata": {},
   "outputs": [],
   "source": []
  },
  {
   "cell_type": "code",
   "execution_count": null,
   "metadata": {},
   "outputs": [],
   "source": [
    "import pandas as pd\n",
    "import numpy as np\n",
    " \n",
    "# - preparing data -\n",
    "kuringai = pd.read_csv(\"data/rainfall/IDCJAC0009_066119_1800_Data.csv\")\n",
    "mask_year_2000 = kuringai['Year'] == 2000 # mask to extract 200\n",
    "kuringai_2000_only = kuringai[mask_year_2000] # extract using mask\n",
    "kuringai_2000_only = kuringai_2000_only.dropna()\n",
    "kuringai_2000_only['cumulative'] = kuringai_2000_only['Rainfall amount (millimetres)'].cumsum() # calculate cumsum and add to dataframe\n",
    "canvas = kuringai_2000_only['cumulative'].plot() # plot cumulative using the series\n",
    " \n",
    "# linear regression\n",
    "x = kuringai_2000_only.index\n",
    "y = kuringai_2000_only['cumulative']\n",
    "coefficients = np.polyfit(x, y, 1)\n",
    "function = np.poly1d(coefficients)\n",
    "kuringai_2000_only['predictions'] = function(x)\n",
    "kuringai_2000_only['predictions'].plot(ax=canvas)\n",
    "import pandas as pd import numpy as np   # ... by Michael Lay\n",
    "Michael Lay\n",
    "7:14 pm\n",
    "import pandas as pd\n",
    "import numpy as np\n",
    " \n",
    "# - preparing data -\n",
    "kuringai = pd.read_csv(\"data/rainfall/IDCJAC0009_066119_1800_Data.csv\")\n",
    "mask_year_2000 = kuringai['Year'] == 2000 # mask to extract 200\n",
    "kuringai_2000_only = kuringai[mask_year_2000] # extract using mask\n",
    "kuringai_2000_only = kuringai_2000_only.dropna()\n",
    "kuringai_2000_only['cumulative'] = kuringai_2000_only['Rainfall amount (millimetres)'].cumsum() # calculate cumsum and add to dataframe\n",
    "canvas = kuringai_2000_only['cumulative'].plot(legend=True) # plot cumulative using the series\n",
    " \n",
    "# linear regression\n",
    "x = kuringai_2000_only.index\n",
    "y = kuringai_2000_only['cumulative']\n",
    "coefficients = np.polyfit(x, y, 1)\n",
    "function = np.poly1d(coefficients)\n",
    "kuringai_2000_only['predictions'] = function(x)\n",
    "kuringai_2000_only['predictions'].plot(ax=canvas, legend=True)\n",
    "has context menu\n",
    "\n",
    "\n"
   ]
  }
 ],
 "metadata": {
  "language_info": {
   "name": "python"
  }
 },
 "nbformat": 4,
 "nbformat_minor": 2
}
