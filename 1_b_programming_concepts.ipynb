{
 "cells": [
  {
   "attachments": {},
   "cell_type": "markdown",
   "metadata": {},
   "source": [
    "# Variables\n",
    "\n",
    "_Variables_ contain _values_.  Values can be different types:\n",
    "  * numbers (`int` or `float`)\n",
    "  * text (`str`)\n",
    "  * true/false (`bool`)\n",
    "\n",
    "Python keeps track of the difference between each and we can see the type using a built-in function `type`"
   ]
  },
  {
   "cell_type": "code",
   "execution_count": 1,
   "metadata": {},
   "outputs": [
    {
     "name": "stdout",
     "output_type": "stream",
     "text": [
      "<class 'int'>\n",
      "<class 'float'>\n",
      "<class 'str'>\n",
      "<class 'bool'>\n"
     ]
    }
   ],
   "source": [
    "print(type(1))\n",
    "print(type(1.2))\n",
    "print(type(\"hi there\"))\n",
    "print(type(True))"
   ]
  },
  {
   "attachments": {},
   "cell_type": "markdown",
   "metadata": {},
   "source": [
    "Python also contains types for when you need many values all bundled together.\n",
    "  * a `tuple` is multiple values stuck together\n",
    "  * a `list` is a number of values all in a line\n",
    "  * a `dict`ionary is a list but every value gets a name of its own"
   ]
  },
  {
   "cell_type": "code",
   "execution_count": 2,
   "metadata": {},
   "outputs": [
    {
     "name": "stdout",
     "output_type": "stream",
     "text": [
      "<class 'tuple'>\n",
      "<class 'list'>\n",
      "<class 'dict'>\n"
     ]
    }
   ],
   "source": [
    "print(type((1,2)))\n",
    "print(type([1,2,3]))\n",
    "print(type({\"a\":1, \"b\":2, \"c\":3}))"
   ]
  },
  {
   "attachments": {},
   "cell_type": "markdown",
   "metadata": {},
   "source": [
    "This link will show you some examples of tuples and teach you the syntax they use.  At this point you only need to be familiar with using these, we will be learning more about them as the course progresses.  However, collections such as these appear everywhere so we need to get started with them ASAP.\n",
    "\n",
    "https://www.w3schools.com/python/python_tuples.asp"
   ]
  },
  {
   "attachments": {},
   "cell_type": "markdown",
   "metadata": {},
   "source": [
    "# Activity\n",
    "\n",
    "put the values `1`, `\"a\"` and `True` into a tuple, store it in a variable, then print that variable.  You might need to carefully re-read earlier modules to fully understand what we are asking here.  You will find explanations for each concept."
   ]
  },
  {
   "cell_type": "code",
   "execution_count": null,
   "metadata": {},
   "outputs": [],
   "source": []
  },
  {
   "cell_type": "code",
   "execution_count": 3,
   "metadata": {},
   "outputs": [
    {
     "name": "stdout",
     "output_type": "stream",
     "text": [
      "put your answer here\n",
      "(1, 'a', True)\n"
     ]
    },
    {
     "ename": "TypeError",
     "evalue": "can only concatenate str (not \"bool\") to str",
     "output_type": "error",
     "traceback": [
      "\u001b[0;31m---------------------------------------------------------------------------\u001b[0m",
      "\u001b[0;31mTypeError\u001b[0m                                 Traceback (most recent call last)",
      "Cell \u001b[0;32mIn[3], line 5\u001b[0m\n\u001b[1;32m      3\u001b[0m b\u001b[38;5;241m=\u001b[39m{\u001b[38;5;124m\"\u001b[39m\u001b[38;5;124ma\u001b[39m\u001b[38;5;124m\"\u001b[39m:\u001b[38;5;241m1\u001b[39m,\u001b[38;5;124m\"\u001b[39m\u001b[38;5;124mb\u001b[39m\u001b[38;5;124m\"\u001b[39m:a,\u001b[38;5;124m\"\u001b[39m\u001b[38;5;124mc\u001b[39m\u001b[38;5;124m\"\u001b[39m:\u001b[38;5;28;01mTrue\u001b[39;00m}\n\u001b[1;32m      4\u001b[0m \u001b[38;5;28mprint\u001b[39m (a)\n\u001b[0;32m----> 5\u001b[0m \u001b[38;5;28mprint\u001b[39m (\u001b[38;5;124;43m\"\u001b[39;49m\u001b[38;5;124;43mz\u001b[39;49m\u001b[38;5;124;43m\"\u001b[39;49m\u001b[43m \u001b[49m\u001b[38;5;241;43m+\u001b[39;49m\u001b[43m \u001b[49m\u001b[43mb\u001b[49m\u001b[43m[\u001b[49m\u001b[38;5;124;43m\"\u001b[39;49m\u001b[38;5;124;43mc\u001b[39;49m\u001b[38;5;124;43m\"\u001b[39;49m\u001b[43m]\u001b[49m) \n",
      "\u001b[0;31mTypeError\u001b[0m: can only concatenate str (not \"bool\") to str"
     ]
    }
   ],
   "source": [
    "print(\"put your answer here\")\n",
    "a=(1,\"a\",True)\n",
    "b={\"a\":1,\"b\":a,\"c\":True}\n",
    "print (a)\n",
    "print (\"z\" + b[\"c\"]) \n"
   ]
  },
  {
   "attachments": {},
   "cell_type": "markdown",
   "metadata": {},
   "source": [
    "This link will show you some examples of lists and teach you the syntax they use.  \n",
    "\n",
    "https://www.w3schools.com/python/python_lists.asp"
   ]
  },
  {
   "attachments": {},
   "cell_type": "markdown",
   "metadata": {},
   "source": [
    "# Activity\n",
    "\n",
    "Put the values `1`, `10`, `100`, and `1000` into a list, store that in a variable, then print the value of that variable."
   ]
  },
  {
   "cell_type": "code",
   "execution_count": null,
   "metadata": {},
   "outputs": [
    {
     "name": "stdout",
     "output_type": "stream",
     "text": [
      "put your answer here\n"
     ]
    }
   ],
   "source": [
    "print(\"put your answer here\")"
   ]
  },
  {
   "attachments": {},
   "cell_type": "markdown",
   "metadata": {},
   "source": [
    "This link will show you some examples of dictionaries and teach you the syntax they use.  \n",
    "\n",
    "https://www.w3schools.com/python/python_dictionaries.asp"
   ]
  },
  {
   "attachments": {},
   "cell_type": "markdown",
   "metadata": {},
   "source": [
    "# Activity\n",
    "\n",
    "Put the values `1`, `10`, `100`, and `1000` into a dictionary, label them \"one\", \"ten\", \"hundred\" and \"thousand\", store that in a variable, then print the value of that variable."
   ]
  },
  {
   "cell_type": "code",
   "execution_count": null,
   "metadata": {},
   "outputs": [
    {
     "name": "stdout",
     "output_type": "stream",
     "text": [
      "put your answer here\n"
     ]
    }
   ],
   "source": [
    "print(\"put your answer here\")"
   ]
  },
  {
   "cell_type": "markdown",
   "metadata": {},
   "source": [
    "# Variables again\n",
    "\n",
    "Variables hold values, values are put into variables with _assignment syntax_.  The name of the variable goes on the left, then a n `=`, then the value to go in the variable\n",
    "\n",
    "````\n",
    "name = 1\n",
    "````\n",
    "\n",
    "If you see a variable name anywhere _except_ the left hand side of an assignment, then the value in the variable is being _read_ instead of _written_\n",
    "\n",
    "This means you can have variables on the left _and_ right of an assignment.  The one of the left is being written, the one on the right is being read.\n",
    "\n",
    "# Exercise\n",
    "\n",
    "Put the value 1 into a variable called `myvar` without typing any extra digits in the below code cell."
   ]
  },
  {
   "cell_type": "code",
   "execution_count": null,
   "metadata": {},
   "outputs": [
    {
     "name": "stdout",
     "output_type": "stream",
     "text": [
      "1\n"
     ]
    }
   ],
   "source": [
    "name = 1\n",
    "myvar=name\n",
    "print(myvar)\n",
    "\n",
    "# solution goes here"
   ]
  }
 ],
 "metadata": {
  "kernelspec": {
   "display_name": "Python 3",
   "language": "python",
   "name": "python3"
  },
  "language_info": {
   "codemirror_mode": {
    "name": "ipython",
    "version": 3
   },
   "file_extension": ".py",
   "mimetype": "text/x-python",
   "name": "python",
   "nbconvert_exporter": "python",
   "pygments_lexer": "ipython3",
   "version": "3.12.3"
  },
  "orig_nbformat": 4,
  "vscode": {
   "interpreter": {
    "hash": "9ac03a0a6051494cc606d484d27d20fce22fb7b4d169f583271e11d5ba46a56e"
   }
  }
 },
 "nbformat": 4,
 "nbformat_minor": 2
}
