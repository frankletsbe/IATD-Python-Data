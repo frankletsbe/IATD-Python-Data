{
 "cells": [
  {
   "attachments": {},
   "cell_type": "markdown",
   "metadata": {},
   "source": [
    "# Extracting a single value\n",
    "\n",
    "## By square bracket notation\n",
    "\n",
    "We can extract a single value by using the square bracket notation twice.  For example, I can get the 11,000th value from the rainfall amount column like this.a row or a column from a data frame/series.  This is a simple consequence of the fact that square bracket notation works on both data frames _and_ series.  The left-most one is working on a data frame and returning a series, the second one is working on the series.\n"
   ]
  },
  {
   "cell_type": "code",
   "execution_count": 16,
   "metadata": {},
   "outputs": [
    {
     "ename": "KeyError",
     "evalue": "322923",
     "output_type": "error",
     "traceback": [
      "\u001b[0;31m---------------------------------------------------------------------------\u001b[0m",
      "\u001b[0;31mValueError\u001b[0m                                Traceback (most recent call last)",
      "File \u001b[0;32m/workspace/.pyenv_mirror/user/current/lib/python3.12/site-packages/pandas/core/indexes/range.py:413\u001b[0m, in \u001b[0;36mRangeIndex.get_loc\u001b[0;34m(self, key)\u001b[0m\n\u001b[1;32m    412\u001b[0m \u001b[38;5;28;01mtry\u001b[39;00m:\n\u001b[0;32m--> 413\u001b[0m     \u001b[38;5;28;01mreturn\u001b[39;00m \u001b[38;5;28;43mself\u001b[39;49m\u001b[38;5;241;43m.\u001b[39;49m\u001b[43m_range\u001b[49m\u001b[38;5;241;43m.\u001b[39;49m\u001b[43mindex\u001b[49m\u001b[43m(\u001b[49m\u001b[43mnew_key\u001b[49m\u001b[43m)\u001b[49m\n\u001b[1;32m    414\u001b[0m \u001b[38;5;28;01mexcept\u001b[39;00m \u001b[38;5;167;01mValueError\u001b[39;00m \u001b[38;5;28;01mas\u001b[39;00m err:\n",
      "\u001b[0;31mValueError\u001b[0m: 322923 is not in range",
      "\nThe above exception was the direct cause of the following exception:\n",
      "\u001b[0;31mKeyError\u001b[0m                                  Traceback (most recent call last)",
      "Cell \u001b[0;32mIn[16], line 4\u001b[0m\n\u001b[1;32m      1\u001b[0m \u001b[38;5;28;01mimport\u001b[39;00m \u001b[38;5;21;01mpandas\u001b[39;00m \u001b[38;5;28;01mas\u001b[39;00m \u001b[38;5;21;01mpd\u001b[39;00m\n\u001b[1;32m      3\u001b[0m wentworth \u001b[38;5;241m=\u001b[39m pd\u001b[38;5;241m.\u001b[39mread_csv(\u001b[38;5;124m\"\u001b[39m\u001b[38;5;124mdata/rainfall/IDCJAC0009_047045_1800_Data.csv\u001b[39m\u001b[38;5;124m\"\u001b[39m)\n\u001b[0;32m----> 4\u001b[0m \u001b[43mwentworth\u001b[49m\u001b[43m[\u001b[49m\u001b[38;5;124;43m\"\u001b[39;49m\u001b[38;5;124;43mRainfall amount (millimetres)\u001b[39;49m\u001b[38;5;124;43m\"\u001b[39;49m\u001b[43m]\u001b[49m\u001b[43m[\u001b[49m\u001b[38;5;241;43m322923\u001b[39;49m\u001b[43m]\u001b[49m\n",
      "File \u001b[0;32m/workspace/.pyenv_mirror/user/current/lib/python3.12/site-packages/pandas/core/series.py:1121\u001b[0m, in \u001b[0;36mSeries.__getitem__\u001b[0;34m(self, key)\u001b[0m\n\u001b[1;32m   1118\u001b[0m     \u001b[38;5;28;01mreturn\u001b[39;00m \u001b[38;5;28mself\u001b[39m\u001b[38;5;241m.\u001b[39m_values[key]\n\u001b[1;32m   1120\u001b[0m \u001b[38;5;28;01melif\u001b[39;00m key_is_scalar:\n\u001b[0;32m-> 1121\u001b[0m     \u001b[38;5;28;01mreturn\u001b[39;00m \u001b[38;5;28;43mself\u001b[39;49m\u001b[38;5;241;43m.\u001b[39;49m\u001b[43m_get_value\u001b[49m\u001b[43m(\u001b[49m\u001b[43mkey\u001b[49m\u001b[43m)\u001b[49m\n\u001b[1;32m   1123\u001b[0m \u001b[38;5;66;03m# Convert generator to list before going through hashable part\u001b[39;00m\n\u001b[1;32m   1124\u001b[0m \u001b[38;5;66;03m# (We will iterate through the generator there to check for slices)\u001b[39;00m\n\u001b[1;32m   1125\u001b[0m \u001b[38;5;28;01mif\u001b[39;00m is_iterator(key):\n",
      "File \u001b[0;32m/workspace/.pyenv_mirror/user/current/lib/python3.12/site-packages/pandas/core/series.py:1237\u001b[0m, in \u001b[0;36mSeries._get_value\u001b[0;34m(self, label, takeable)\u001b[0m\n\u001b[1;32m   1234\u001b[0m     \u001b[38;5;28;01mreturn\u001b[39;00m \u001b[38;5;28mself\u001b[39m\u001b[38;5;241m.\u001b[39m_values[label]\n\u001b[1;32m   1236\u001b[0m \u001b[38;5;66;03m# Similar to Index.get_value, but we do not fall back to positional\u001b[39;00m\n\u001b[0;32m-> 1237\u001b[0m loc \u001b[38;5;241m=\u001b[39m \u001b[38;5;28;43mself\u001b[39;49m\u001b[38;5;241;43m.\u001b[39;49m\u001b[43mindex\u001b[49m\u001b[38;5;241;43m.\u001b[39;49m\u001b[43mget_loc\u001b[49m\u001b[43m(\u001b[49m\u001b[43mlabel\u001b[49m\u001b[43m)\u001b[49m\n\u001b[1;32m   1239\u001b[0m \u001b[38;5;28;01mif\u001b[39;00m is_integer(loc):\n\u001b[1;32m   1240\u001b[0m     \u001b[38;5;28;01mreturn\u001b[39;00m \u001b[38;5;28mself\u001b[39m\u001b[38;5;241m.\u001b[39m_values[loc]\n",
      "File \u001b[0;32m/workspace/.pyenv_mirror/user/current/lib/python3.12/site-packages/pandas/core/indexes/range.py:415\u001b[0m, in \u001b[0;36mRangeIndex.get_loc\u001b[0;34m(self, key)\u001b[0m\n\u001b[1;32m    413\u001b[0m         \u001b[38;5;28;01mreturn\u001b[39;00m \u001b[38;5;28mself\u001b[39m\u001b[38;5;241m.\u001b[39m_range\u001b[38;5;241m.\u001b[39mindex(new_key)\n\u001b[1;32m    414\u001b[0m     \u001b[38;5;28;01mexcept\u001b[39;00m \u001b[38;5;167;01mValueError\u001b[39;00m \u001b[38;5;28;01mas\u001b[39;00m err:\n\u001b[0;32m--> 415\u001b[0m         \u001b[38;5;28;01mraise\u001b[39;00m \u001b[38;5;167;01mKeyError\u001b[39;00m(key) \u001b[38;5;28;01mfrom\u001b[39;00m \u001b[38;5;21;01merr\u001b[39;00m\n\u001b[1;32m    416\u001b[0m \u001b[38;5;28;01mif\u001b[39;00m \u001b[38;5;28misinstance\u001b[39m(key, Hashable):\n\u001b[1;32m    417\u001b[0m     \u001b[38;5;28;01mraise\u001b[39;00m \u001b[38;5;167;01mKeyError\u001b[39;00m(key)\n",
      "\u001b[0;31mKeyError\u001b[0m: 322923"
     ]
    }
   ],
   "source": [
    "import pandas as pd\n",
    "\n",
    "wentworth = pd.read_csv(\"data/rainfall/IDCJAC0009_047045_1800_Data.csv\")\n",
    "wentworth[\"Rainfall amount (millimetres)\"][322923]"
   ]
  },
  {
   "cell_type": "code",
   "execution_count": 5,
   "metadata": {},
   "outputs": [
    {
     "name": "stdout",
     "output_type": "stream",
     "text": [
      "0.6992802603579922\n",
      "0    0.0\n",
      "Name: Rainfall amount (millimetres), dtype: float64\n",
      "0.0\n",
      "113.0\n"
     ]
    },
    {
     "data": {
      "text/html": [
       "<div>\n",
       "<style scoped>\n",
       "    .dataframe tbody tr th:only-of-type {\n",
       "        vertical-align: middle;\n",
       "    }\n",
       "\n",
       "    .dataframe tbody tr th {\n",
       "        vertical-align: top;\n",
       "    }\n",
       "\n",
       "    .dataframe thead th {\n",
       "        text-align: right;\n",
       "    }\n",
       "</style>\n",
       "<table border=\"1\" class=\"dataframe\">\n",
       "  <thead>\n",
       "    <tr style=\"text-align: right;\">\n",
       "      <th></th>\n",
       "      <th>Product code</th>\n",
       "      <th>Bureau of Meteorology station number</th>\n",
       "      <th>Year</th>\n",
       "      <th>Month</th>\n",
       "      <th>Day</th>\n",
       "      <th>Rainfall amount (millimetres)</th>\n",
       "      <th>Period over which rainfall was measured (days)</th>\n",
       "      <th>Quality</th>\n",
       "    </tr>\n",
       "  </thead>\n",
       "  <tbody>\n",
       "    <tr>\n",
       "      <th>0</th>\n",
       "      <td>IDCJAC0009</td>\n",
       "      <td>67105</td>\n",
       "      <td>1994</td>\n",
       "      <td>1</td>\n",
       "      <td>1</td>\n",
       "      <td>NaN</td>\n",
       "      <td>NaN</td>\n",
       "      <td>NaN</td>\n",
       "    </tr>\n",
       "    <tr>\n",
       "      <th>1</th>\n",
       "      <td>IDCJAC0009</td>\n",
       "      <td>67105</td>\n",
       "      <td>1994</td>\n",
       "      <td>1</td>\n",
       "      <td>2</td>\n",
       "      <td>NaN</td>\n",
       "      <td>NaN</td>\n",
       "      <td>NaN</td>\n",
       "    </tr>\n",
       "    <tr>\n",
       "      <th>2</th>\n",
       "      <td>IDCJAC0009</td>\n",
       "      <td>67105</td>\n",
       "      <td>1994</td>\n",
       "      <td>1</td>\n",
       "      <td>3</td>\n",
       "      <td>NaN</td>\n",
       "      <td>NaN</td>\n",
       "      <td>NaN</td>\n",
       "    </tr>\n",
       "    <tr>\n",
       "      <th>3</th>\n",
       "      <td>IDCJAC0009</td>\n",
       "      <td>67105</td>\n",
       "      <td>1994</td>\n",
       "      <td>1</td>\n",
       "      <td>4</td>\n",
       "      <td>NaN</td>\n",
       "      <td>NaN</td>\n",
       "      <td>NaN</td>\n",
       "    </tr>\n",
       "    <tr>\n",
       "      <th>4</th>\n",
       "      <td>IDCJAC0009</td>\n",
       "      <td>67105</td>\n",
       "      <td>1994</td>\n",
       "      <td>1</td>\n",
       "      <td>5</td>\n",
       "      <td>NaN</td>\n",
       "      <td>NaN</td>\n",
       "      <td>NaN</td>\n",
       "    </tr>\n",
       "    <tr>\n",
       "      <th>...</th>\n",
       "      <td>...</td>\n",
       "      <td>...</td>\n",
       "      <td>...</td>\n",
       "      <td>...</td>\n",
       "      <td>...</td>\n",
       "      <td>...</td>\n",
       "      <td>...</td>\n",
       "      <td>...</td>\n",
       "    </tr>\n",
       "    <tr>\n",
       "      <th>10620</th>\n",
       "      <td>IDCJAC0009</td>\n",
       "      <td>67105</td>\n",
       "      <td>2023</td>\n",
       "      <td>1</td>\n",
       "      <td>29</td>\n",
       "      <td>0.2</td>\n",
       "      <td>1.0</td>\n",
       "      <td>N</td>\n",
       "    </tr>\n",
       "    <tr>\n",
       "      <th>10621</th>\n",
       "      <td>IDCJAC0009</td>\n",
       "      <td>67105</td>\n",
       "      <td>2023</td>\n",
       "      <td>1</td>\n",
       "      <td>30</td>\n",
       "      <td>19.2</td>\n",
       "      <td>1.0</td>\n",
       "      <td>N</td>\n",
       "    </tr>\n",
       "    <tr>\n",
       "      <th>10622</th>\n",
       "      <td>IDCJAC0009</td>\n",
       "      <td>67105</td>\n",
       "      <td>2023</td>\n",
       "      <td>1</td>\n",
       "      <td>31</td>\n",
       "      <td>32.2</td>\n",
       "      <td>1.0</td>\n",
       "      <td>N</td>\n",
       "    </tr>\n",
       "    <tr>\n",
       "      <th>10623</th>\n",
       "      <td>IDCJAC0009</td>\n",
       "      <td>67105</td>\n",
       "      <td>2023</td>\n",
       "      <td>2</td>\n",
       "      <td>1</td>\n",
       "      <td>0.2</td>\n",
       "      <td>1.0</td>\n",
       "      <td>N</td>\n",
       "    </tr>\n",
       "    <tr>\n",
       "      <th>10624</th>\n",
       "      <td>IDCJAC0009</td>\n",
       "      <td>67105</td>\n",
       "      <td>2023</td>\n",
       "      <td>2</td>\n",
       "      <td>2</td>\n",
       "      <td>0.0</td>\n",
       "      <td>1.0</td>\n",
       "      <td>N</td>\n",
       "    </tr>\n",
       "  </tbody>\n",
       "</table>\n",
       "<p>10625 rows × 8 columns</p>\n",
       "</div>"
      ],
      "text/plain": [
       "      Product code  Bureau of Meteorology station number  Year  Month  Day  \\\n",
       "0       IDCJAC0009                                 67105  1994      1    1   \n",
       "1       IDCJAC0009                                 67105  1994      1    2   \n",
       "2       IDCJAC0009                                 67105  1994      1    3   \n",
       "3       IDCJAC0009                                 67105  1994      1    4   \n",
       "4       IDCJAC0009                                 67105  1994      1    5   \n",
       "...            ...                                   ...   ...    ...  ...   \n",
       "10620   IDCJAC0009                                 67105  2023      1   29   \n",
       "10621   IDCJAC0009                                 67105  2023      1   30   \n",
       "10622   IDCJAC0009                                 67105  2023      1   31   \n",
       "10623   IDCJAC0009                                 67105  2023      2    1   \n",
       "10624   IDCJAC0009                                 67105  2023      2    2   \n",
       "\n",
       "       Rainfall amount (millimetres)  \\\n",
       "0                                NaN   \n",
       "1                                NaN   \n",
       "2                                NaN   \n",
       "3                                NaN   \n",
       "4                                NaN   \n",
       "...                              ...   \n",
       "10620                            0.2   \n",
       "10621                           19.2   \n",
       "10622                           32.2   \n",
       "10623                            0.2   \n",
       "10624                            0.0   \n",
       "\n",
       "       Period over which rainfall was measured (days) Quality  \n",
       "0                                                 NaN     NaN  \n",
       "1                                                 NaN     NaN  \n",
       "2                                                 NaN     NaN  \n",
       "3                                                 NaN     NaN  \n",
       "4                                                 NaN     NaN  \n",
       "...                                               ...     ...  \n",
       "10620                                             1.0       N  \n",
       "10621                                             1.0       N  \n",
       "10622                                             1.0       N  \n",
       "10623                                             1.0       N  \n",
       "10624                                             1.0       N  \n",
       "\n",
       "[10625 rows x 8 columns]"
      ]
     },
     "metadata": {},
     "output_type": "display_data"
    },
    {
     "name": "stdout",
     "output_type": "stream",
     "text": [
      "2.6003934254240253\n",
      "IDCJAC0009_063049_1800_Data\n",
      "['data/rainfall/IDCJAC0009_047045_1800_Data.csv', 'data/rainfall/IDCJAC0009_049092_1800_Data.csv', 'data/rainfall/IDCJAC0009_063049_1800_Data.csv', 'data/rainfall/IDCJAC0009_063245_1800_Data.csv', 'data/rainfall/IDCJAC0009_063292_1800_Data.csv', 'data/rainfall/IDCJAC0009_063298_1800_Data.csv', 'data/rainfall/IDCJAC0009_065019_1800_Data.csv', 'data/rainfall/IDCJAC0009_066119_1800_Data.csv', 'data/rainfall/IDCJAC0009_066128_1800_Data.csv', 'data/rainfall/IDCJAC0009_067105_1800_Data.csv', 'data/rainfall/IDCJAC0009_075167_1800_Data.csv']\n",
      "3.213410650887574\n",
      "data/rainfall/IDCJAC0009_066119_1800_Data.csv\n"
     ]
    }
   ],
   "source": [
    "import pandas as pd\n",
    "\n",
    "wentworth = pd.read_csv(\"data/rainfall/IDCJAC0009_047045_1800_Data.csv\")\n",
    "wentworth[\"Rainfall amount (millimetres)\"][11000]\n",
    "\n",
    "files = ['IDCJAC0009_047045_1800_Data', 'IDCJAC0009_049092_1800_Data', 'IDCJAC0009_063049_1800_Data']\n",
    "\n",
    "wentworth[\"Rainfall amount (millimetres)\"].sum()\n",
    "# Exercise, try out mean, mode, min, and max\n",
    " \n",
    "# Something to think about:\n",
    "# What are the datatypes returned by each method?\n",
    " \n",
    "print(wentworth[\"Rainfall amount (millimetres)\"].mean()) # Float\n",
    "print(wentworth[\"Rainfall amount (millimetres)\"].mode())  # Why has mode given us a series?\n",
    "# mode = the most frequent values\n",
    "# 1, 1, 2, 2,\n",
    "# 1 and 2 are BOTH the most frequent\n",
    "print(wentworth[\"Rainfall amount (millimetres)\"].min())\n",
    "print(wentworth[\"Rainfall amount (millimetres)\"].max())\n",
    "\n",
    "data_frame = pd.read_csv('data/rainfall/IDCJAC0009_067105_1800_Data.csv')\n",
    "display(data_frame)\n",
    "data_frame['Rainfall amount (millimetres)'].max()\n",
    "\n",
    "highest = 0\n",
    "highest_file = \"\"\n",
    "for file in files:\n",
    "    data_frame = pd.read_csv('data/rainfall/' + file + '.csv')\n",
    "    average = data_frame['Rainfall amount (millimetres)'].mean()\n",
    "    if average > highest:\n",
    "        highest = average\n",
    "        highest_file = file\n",
    "print(highest)\n",
    "print(highest_file)\n",
    "\n",
    "import glob, os\n",
    "files = glob.glob(os.path.join('data/rainfall/IDC*.csv'))\n",
    "print(files)\n",
    "for file in files:\n",
    "    data_frame = pd.read_csv(file)\n",
    "    average = data_frame['Rainfall amount (millimetres)'].mean()\n",
    "    if average > highest:\n",
    "        highest = average\n",
    "        highest_file = file\n",
    "print(highest)\n",
    "print(highest_file)"
   ]
  },
  {
   "attachments": {},
   "cell_type": "markdown",
   "metadata": {},
   "source": [
    "## By Summarising\n",
    "\n",
    "Pandas provides some \"magic\" when it comes to summarising columns.  Series have a set of \"methods\" attached to them that you can call any time you like to get summaries.  Note that these summaries work on Series, so you should extract them first.  Examples are:\n",
    "  * add up all elements (`sum`)\n",
    "  * calculate the average (`mean`) or mode (`mode`)\n",
    "  * find the largest (`max`) or smallest (`min`)."
   ]
  },
  {
   "attachments": {},
   "cell_type": "markdown",
   "metadata": {},
   "source": [
    "# Example\n",
    "\n",
    "What is the largest rainfall day for Richmond RAAF base (which is in the file `data/rainfall/IDCJAC0009_067105_1800_Data.csv`)?\n",
    "\n",
    "Which of our rainfall files has the highest average rainfall?"
   ]
  },
  {
   "attachments": {},
   "cell_type": "markdown",
   "metadata": {},
   "source": [
    "# Exercise\n",
    "\n",
    "What is the total rainfall recorded for Meriwagga (rainfall file 075167)?  What is the maximum and minimum rainfall on any one day?  I am sure you can guess the minimum, but what code will give it to you?"
   ]
  },
  {
   "attachments": {},
   "cell_type": "markdown",
   "metadata": {},
   "source": [
    "## By `loc` and `iloc`\n",
    "\n",
    "We've seen how to recover a Series from a DataFrame - i.e. how to extract a column.\n",
    "\n",
    "Lets see how to extract a row.\n",
    "\n",
    "It is important to realise that, since DataFrames are built from Series, it is somewhat awkward to pull out a single row.  In effect, we are asking for pandas to visit each Series and grab the value at a particular index.\n",
    "\n",
    "Instead of doing this though, we will use the `loc` functionality of pandas.\n",
    "\n",
    "`loc` and `iloc` are functions that can get columns _or rows_.  `loc` goes by column name when getting columns and by index when getting rows.  `iloc` goes by the order of the column when getting columns and the order of the row when getting rows.\n",
    "\n",
    "`loc` and `iloc` actually take two parameters to look up both axis at once."
   ]
  },
  {
   "cell_type": "code",
   "execution_count": 6,
   "metadata": {},
   "outputs": [
    {
     "name": "stdout",
     "output_type": "stream",
     "text": [
      "15648.6\n",
      "86.0\n",
      "0.0\n"
     ]
    },
    {
     "data": {
      "text/html": [
       "<div>\n",
       "<style scoped>\n",
       "    .dataframe tbody tr th:only-of-type {\n",
       "        vertical-align: middle;\n",
       "    }\n",
       "\n",
       "    .dataframe tbody tr th {\n",
       "        vertical-align: top;\n",
       "    }\n",
       "\n",
       "    .dataframe thead th {\n",
       "        text-align: right;\n",
       "    }\n",
       "</style>\n",
       "<table border=\"1\" class=\"dataframe\">\n",
       "  <thead>\n",
       "    <tr style=\"text-align: right;\">\n",
       "      <th></th>\n",
       "      <th>second column</th>\n",
       "      <th>third column</th>\n",
       "    </tr>\n",
       "    <tr>\n",
       "      <th>first column</th>\n",
       "      <th></th>\n",
       "      <th></th>\n",
       "    </tr>\n",
       "  </thead>\n",
       "  <tbody>\n",
       "    <tr>\n",
       "      <th>a</th>\n",
       "      <td>asdasd</td>\n",
       "      <td>a23</td>\n",
       "    </tr>\n",
       "    <tr>\n",
       "      <th>b</th>\n",
       "      <td>asdasd</td>\n",
       "      <td>fg13</td>\n",
       "    </tr>\n",
       "    <tr>\n",
       "      <th>c</th>\n",
       "      <td>asdsad</td>\n",
       "      <td>h141</td>\n",
       "    </tr>\n",
       "    <tr>\n",
       "      <th>d</th>\n",
       "      <td>asdasd</td>\n",
       "      <td>hg123</td>\n",
       "    </tr>\n",
       "    <tr>\n",
       "      <th>e</th>\n",
       "      <td>asdasd</td>\n",
       "      <td>6123a</td>\n",
       "    </tr>\n",
       "  </tbody>\n",
       "</table>\n",
       "</div>"
      ],
      "text/plain": [
       "             second column third column\n",
       "first column                           \n",
       "a                   asdasd          a23\n",
       "b                   asdasd         fg13\n",
       "c                   asdsad         h141\n",
       "d                   asdasd        hg123\n",
       "e                   asdasd        6123a"
      ]
     },
     "metadata": {},
     "output_type": "display_data"
    },
    {
     "data": {
      "text/plain": [
       "'fg13'"
      ]
     },
     "metadata": {},
     "output_type": "display_data"
    },
    {
     "data": {
      "text/plain": [
       "'fg13'"
      ]
     },
     "metadata": {},
     "output_type": "display_data"
    }
   ],
   "source": [
    "wentworth.loc[1110, \"Rainfall amount (millimetres)\"]\n",
    "\n",
    "data_frame = pd.read_csv('data/rainfall/IDCJAC0009_075167_1800_Data.csv')\n",
    "print(data_frame['Rainfall amount (millimetres)'].sum())\n",
    "print(data_frame['Rainfall amount (millimetres)'].max())\n",
    "print(data_frame['Rainfall amount (millimetres)'].min())\n",
    "\n",
    "\n",
    "my_frame = pd.DataFrame()\n",
    "my_frame['first column'] = [\"a\", \"b\", \"c\", \"d\", \"e\"]\n",
    "my_frame['second column'] = [\"asdasd\", \"asdasd\", \"asdsad\", \"asdasd\", \"asdasd\"]\n",
    "my_frame['third column'] = [\"a23\", \"fg13\", \"h141\", \"hg123\", \"6123a\"]\n",
    "my_frame = my_frame.set_index(\"first column\")\n",
    "display(my_frame)\n",
    " \n",
    "display(my_frame.loc['b', 'third column']) # labels\n",
    "display(my_frame.iloc[1, 1]) # indexes"
   ]
  },
  {
   "cell_type": "markdown",
   "metadata": {},
   "source": [
    "but (as you can see) does it _row first_.  This means if we only give one, they will look up by row and give you back a series for that row.  It looks like the table was \"flipped\", but that is not really what happens."
   ]
  },
  {
   "cell_type": "code",
   "execution_count": 3,
   "metadata": {},
   "outputs": [
    {
     "data": {
      "text/plain": [
       "Product code                                      IDCJAC0009\n",
       "Bureau of Meteorology station number                   47045\n",
       "Year                                                    1936\n",
       "Month                                                      1\n",
       "Day                                                       16\n",
       "Rainfall amount (millimetres)                            0.0\n",
       "Period over which rainfall was measured (days)           NaN\n",
       "Quality                                                    Y\n",
       "Name: 1110, dtype: object"
      ]
     },
     "execution_count": 3,
     "metadata": {},
     "output_type": "execute_result"
    }
   ],
   "source": [
    "wentworth.loc[1110]"
   ]
  },
  {
   "attachments": {},
   "cell_type": "markdown",
   "metadata": {},
   "source": [
    "# Example\n",
    "\n",
    "What was the rainfall for the 1st May 2019 in Richmond RAF?"
   ]
  },
  {
   "cell_type": "code",
   "execution_count": 9,
   "metadata": {},
   "outputs": [
    {
     "data": {
      "text/plain": [
       "Product code                                      IDCJAC0009\n",
       "Bureau of Meteorology station number                   67105\n",
       "Rainfall amount (millimetres)                            0.0\n",
       "Period over which rainfall was measured (days)           1.0\n",
       "Quality                                                    N\n",
       "Name: (2019, 5, 1), dtype: object"
      ]
     },
     "metadata": {},
     "output_type": "display_data"
    }
   ],
   "source": [
    "\n",
    "richmond = pd.read_csv('data/rainfall/IDCJAC0009_067105_1800_Data.csv')\n",
    "richmond = richmond.set_index(['Year', 'Month', 'Day'])\n",
    "display(richmond.loc[2019, 5, 1])"
   ]
  },
  {
   "attachments": {},
   "cell_type": "markdown",
   "metadata": {},
   "source": [
    "# Exercise\n",
    "\n",
    "What is the title of the 6th row in the `workouts.csv` file?"
   ]
  },
  {
   "cell_type": "code",
   "execution_count": 3,
   "metadata": {},
   "outputs": [
    {
     "ename": "NameError",
     "evalue": "name 'wentworth' is not defined",
     "output_type": "error",
     "traceback": [
      "\u001b[0;31m---------------------------------------------------------------------------\u001b[0m",
      "\u001b[0;31mNameError\u001b[0m                                 Traceback (most recent call last)",
      "Cell \u001b[0;32mIn[3], line 1\u001b[0m\n\u001b[0;32m----> 1\u001b[0m \u001b[43mwentworth\u001b[49m\u001b[38;5;241m.\u001b[39mloc[\u001b[38;5;241m1110\u001b[39m]\n",
      "\u001b[0;31mNameError\u001b[0m: name 'wentworth' is not defined"
     ]
    }
   ],
   "source": [
    "wentworth.loc[1110]"
   ]
  },
  {
   "attachments": {},
   "cell_type": "markdown",
   "metadata": {},
   "source": [
    "# Using `loc`/`iloc` for everything?\n",
    "\n",
    "Many pandas programmers just use `loc` and `iloc` for everything but I will not.  Using them \"hides\" the underlying working of pandas and since we are here to learn, that doesn't suit us.  We will use it when we need to, but stick to square bracket notation as much as possible.  If you post a question on stack overflow you will probably get a `loc`/`iloc` based answer though, so we want to make sure you really know how they work."
   ]
  }
 ],
 "metadata": {
  "kernelspec": {
   "display_name": "Python 3",
   "language": "python",
   "name": "python3"
  },
  "language_info": {
   "codemirror_mode": {
    "name": "ipython",
    "version": 3
   },
   "file_extension": ".py",
   "mimetype": "text/x-python",
   "name": "python",
   "nbconvert_exporter": "python",
   "pygments_lexer": "ipython3",
   "version": "3.12.3"
  },
  "orig_nbformat": 4
 },
 "nbformat": 4,
 "nbformat_minor": 2
}
