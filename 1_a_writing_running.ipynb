{
 "cells": [
  {
   "attachments": {},
   "cell_type": "markdown",
   "metadata": {},
   "source": [
    "# Jupyter Notebooks\n",
    "\n",
    "Welcome to Jupyter Notebooks (\"notebooks\" for-short).  A notebook is a document that contains text and code. \n",
    "\n",
    "Jupyter Notebooks are a series of _cells_.  Each cell can contain _either_:\n",
    "  * Text, or\n",
    "  * Computation (code)\n",
    "\n",
    "and cells can be organised in one dimension.   You can't store data in a jupyter text cell, you need to use a variable in a computation cell for that.\n"
   ]
  },
  {
   "attachments": {},
   "cell_type": "markdown",
   "metadata": {},
   "source": [
    "# Python\n",
    "\n",
    "The code cells are all written in Python.  Notebooks can actually support many different languages, but they are almost always use (and we will always use) Python.  Python and Jupyter are separate tools that combine to make the notebooks we use here.  When you want to know something about document flow, you learn about Jupyter.  When you want to know something about how to write what goes in code block, you learn about Python.\n"
   ]
  },
  {
   "attachments": {},
   "cell_type": "markdown",
   "metadata": {},
   "source": [
    "# Variables\n",
    "\n",
    "In Jupyter Notebooks you need to create a _variable_ in a code cell.  Variables have a _name_ and a _value_."
   ]
  },
  {
   "cell_type": "code",
   "execution_count": 11,
   "metadata": {},
   "outputs": [],
   "source": [
    "A1 = 5\n",
    "A2 = 6\n",
    "A3 = 7\n",
    "B1 = A1 + 1\n",
    "B2 = A2 + 1\n",
    "B3 = A3 + 1"
   ]
  },
  {
   "attachments": {},
   "cell_type": "markdown",
   "metadata": {},
   "source": [
    "# Running Notebooks\n",
    "A Juptyer cell can be _run_ or _waiting to be run_.  A cell won't automatically run.  Hit the play button next to the cell above to have it run.  You will see a \"tick\" mark appear to show you it has run.  The first time you run a cell, you might be asked to choose what version of Python you want to use.  We recommend the default.\n",
    "\n",
    "In Jupyter, you have complete control (and complete responsiblity) for when code runs.  You will find buttons for:\n",
    "  * \"Run All\" (at the top of the notebook) which runs every code cell in the notebook\n",
    "  * \"Execute Cell\" (to the left of each cell) which will run only this cell.\n",
    "  * \"Execute Above\" (on the top right of each cell) which will run every cell above this one (but not this one).  We use this when we need to make sure any variables this cell uses are up to date\n",
    "  * \"Execute Cell and Below\" (on the top right of each cell) which runs this cell to get its new output and runs all the cells below since they might have used a variable from this cell that has a new value.\n",
    "\n",
    "On a text cell you have a \"tick\" icon to render the cell instead of run it, but if you \"Run All\" every text cell will get rendered.  Rendering a text cell is the equivalent of running a code cell.\n"
   ]
  },
  {
   "attachments": {},
   "cell_type": "markdown",
   "metadata": {},
   "source": [
    "\n",
    "## Viewing the computed values in the document\n",
    "\n",
    "Is simply a matter of printing them out with a code cell, for example."
   ]
  },
  {
   "cell_type": "code",
   "execution_count": 2,
   "metadata": {},
   "outputs": [
    {
     "name": "stdout",
     "output_type": "stream",
     "text": [
      "6\n",
      "7\n",
      "8\n"
     ]
    }
   ],
   "source": [
    "print(B1)\n",
    "print(B2)\n",
    "print(B3)"
   ]
  },
  {
   "attachments": {},
   "cell_type": "markdown",
   "metadata": {},
   "source": [
    "When such a cell is run, it's output is given just below.  Run the cell above to see it's output.\n",
    "\n",
    "If the last line of a cell is a _value_, that value is also printed.  This will be very helpful when we start using tables."
   ]
  },
  {
   "cell_type": "code",
   "execution_count": 4,
   "metadata": {},
   "outputs": [
    {
     "data": {
      "text/plain": [
       "5"
      ]
     },
     "execution_count": 4,
     "metadata": {},
     "output_type": "execute_result"
    }
   ],
   "source": [
    "A1"
   ]
  },
  {
   "attachments": {},
   "cell_type": "markdown",
   "metadata": {},
   "source": [
    "# Activity - Basic Variables \n",
    "\n",
    "Create three variables,`C1`, `C2`, and `C3` and fill them with twice the values of `B1`, `B2`, and `B3` respectively."
   ]
  },
  {
   "cell_type": "code",
   "execution_count": 14,
   "metadata": {},
   "outputs": [
    {
     "name": "stdout",
     "output_type": "stream",
     "text": [
      "put solution to exercise here\n",
      "12\n",
      "14\n",
      "16\n"
     ]
    }
   ],
   "source": [
    "print(\"put solution to exercise here\")\n",
    "c1=B1*2\n",
    "c2=B2*2\n",
    "c3=B3*2\n",
    "print (c1)\n",
    "print (c2)\n",
    "print (c3)"
   ]
  },
  {
   "attachments": {},
   "cell_type": "markdown",
   "metadata": {},
   "source": [
    "# Functions\n",
    "\n",
    "Without noticing, we just used our first function.  `print` is a Python function.  Functions take in data (which we put in parenthesis) and often give us data back, which we can put in a variable if we like.  If a function that gives data back is the last line of a code cell, the value we get back will be printed to the notebook for us.   You can think of functions as working a lot like commands to in Excel.  You will even find equivalents of most of your favourite Excel commands available in Python.\n",
    "\n",
    "When we use a function we say \"we are _calling_ the function\" and \"the funtion was _called_\".\n",
    "\n",
    "When we get values back from a function, we say \"the function _returned_ a value\".\n",
    "\n",
    "When we give data to a function we say \"we pass _parameters_ to the function\" - they appear in parenthesis.\n",
    "\n"
   ]
  },
  {
   "attachments": {},
   "cell_type": "markdown",
   "metadata": {},
   "source": [
    "# Methods\n",
    "\n",
    "Some functions are _attached_ to other values.  We call these functions \"methods\".  The extra terminology is useful because methods are said to \"run _on_ the value they are attached to\" and often modify it or build new versions of it.  We won't get a chance to dig deeper on this, but many of the functions we are going to see area actually methods.  We are free to use the terms interchangably for now."
   ]
  },
  {
   "attachments": {},
   "cell_type": "markdown",
   "metadata": {},
   "source": [
    "Use some of the [built in python functions](https://docs.python.org/3/library/functions.html) to complete the following code cell"
   ]
  },
  {
   "cell_type": "code",
   "execution_count": 21,
   "metadata": {},
   "outputs": [
    {
     "name": "stdout",
     "output_type": "stream",
     "text": [
      "TEST\n",
      "<class 'str'>\n",
      "4\n",
      "4\n"
     ]
    }
   ],
   "source": [
    "a=\"test\"\n",
    "print (a.upper())\n",
    "print (type(a))\n",
    "print (len(a))\n",
    "print (abs(len(a)))\n"
   ]
  }
 ],
 "metadata": {
  "kernelspec": {
   "display_name": "Python 3",
   "language": "python",
   "name": "python3"
  },
  "language_info": {
   "codemirror_mode": {
    "name": "ipython",
    "version": 3
   },
   "file_extension": ".py",
   "mimetype": "text/x-python",
   "name": "python",
   "nbconvert_exporter": "python",
   "pygments_lexer": "ipython3",
   "version": "3.12.3"
  },
  "orig_nbformat": 4,
  "vscode": {
   "interpreter": {
    "hash": "9ac03a0a6051494cc606d484d27d20fce22fb7b4d169f583271e11d5ba46a56e"
   }
  }
 },
 "nbformat": 4,
 "nbformat_minor": 2
}
